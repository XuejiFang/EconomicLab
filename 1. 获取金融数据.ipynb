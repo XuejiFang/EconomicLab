{
 "cells": [
  {
   "cell_type": "markdown",
   "id": "d39a4b78",
   "metadata": {},
   "source": [
    "# 基于Baostock"
   ]
  },
  {
   "cell_type": "code",
   "execution_count": 1,
   "id": "b1c65dcb",
   "metadata": {},
   "outputs": [],
   "source": [
    "import pandas as pd\n",
    "import baostock as bs\n",
    "import matplotlib.pyplot as plt\n",
    "from datetime import datetime\n",
    "\n",
    "#plt.style.use(['science','no-latex'])"
   ]
  },
  {
   "cell_type": "markdown",
   "id": "0735845a",
   "metadata": {},
   "source": [
    "## 1. 登录系统"
   ]
  },
  {
   "cell_type": "code",
   "execution_count": 2,
   "id": "705aa6f2",
   "metadata": {},
   "outputs": [
    {
     "name": "stdout",
     "output_type": "stream",
     "text": [
      "login success!\n"
     ]
    }
   ],
   "source": [
    "lg = bs.login()"
   ]
  },
  {
   "cell_type": "markdown",
   "id": "25bfc4cf",
   "metadata": {},
   "source": [
    "## 2. 获取历史K线数据"
   ]
  },
  {
   "cell_type": "code",
   "execution_count": 3,
   "id": "13f5af94",
   "metadata": {},
   "outputs": [],
   "source": [
    "def get_k(code,start,end,freq='d'):\n",
    "    rs = bs.query_history_k_data_plus(code,\n",
    "            \"date,code,open,high,low,close,preclose,volume,amount,adjustflag,turn,tradestatus,pctChg,isST\",\n",
    "            start_date=start, end_date=end,\n",
    "            frequency=freq, adjustflag=\"3\")\n",
    "    print('query_history_k_data_plus respond error_code:'+rs.error_code)\n",
    "    print('query_history_k_data_plus respond  error_msg:'+rs.error_msg)\n",
    "    data_list = []\n",
    "    while (rs.error_code == '0') & rs.next():\n",
    "        # 获取一条记录，将记录合并在一起\n",
    "        data_list.append(rs.get_row_data())\n",
    "    result = pd.DataFrame(data_list, columns=rs.fields)\n",
    "    result.index=[datetime.strptime(time,'%Y-%m-%d') for time in result['date']]\n",
    "    result=result.iloc[:,1:]\n",
    "    for index in result.keys():\n",
    "        result[index] = [0 if x == \"\" else float(x) for x in result[\"close\"]]\n",
    "    return result"
   ]
  },
  {
   "cell_type": "code",
   "execution_count": 4,
   "id": "be88088b",
   "metadata": {},
   "outputs": [
    {
     "name": "stdout",
     "output_type": "stream",
     "text": [
      "query_history_k_data_plus respond error_code:0\n",
      "query_history_k_data_plus respond  error_msg:success\n"
     ]
    }
   ],
   "source": [
    "data=get_k('sh.600603','2022-01-01','2022-09-30')"
   ]
  },
  {
   "cell_type": "code",
   "execution_count": 5,
   "id": "c7deebc5",
   "metadata": {},
   "outputs": [
    {
     "data": {
      "text/html": [
       "<div>\n",
       "<style scoped>\n",
       "    .dataframe tbody tr th:only-of-type {\n",
       "        vertical-align: middle;\n",
       "    }\n",
       "\n",
       "    .dataframe tbody tr th {\n",
       "        vertical-align: top;\n",
       "    }\n",
       "\n",
       "    .dataframe thead th {\n",
       "        text-align: right;\n",
       "    }\n",
       "</style>\n",
       "<table border=\"1\" class=\"dataframe\">\n",
       "  <thead>\n",
       "    <tr style=\"text-align: right;\">\n",
       "      <th></th>\n",
       "      <th>code</th>\n",
       "      <th>open</th>\n",
       "      <th>high</th>\n",
       "      <th>low</th>\n",
       "      <th>close</th>\n",
       "      <th>preclose</th>\n",
       "      <th>volume</th>\n",
       "      <th>amount</th>\n",
       "      <th>adjustflag</th>\n",
       "      <th>turn</th>\n",
       "      <th>tradestatus</th>\n",
       "      <th>pctChg</th>\n",
       "      <th>isST</th>\n",
       "    </tr>\n",
       "  </thead>\n",
       "  <tbody>\n",
       "    <tr>\n",
       "      <th>2022-01-04</th>\n",
       "      <td>4.06</td>\n",
       "      <td>4.06</td>\n",
       "      <td>4.06</td>\n",
       "      <td>4.06</td>\n",
       "      <td>4.06</td>\n",
       "      <td>4.06</td>\n",
       "      <td>4.06</td>\n",
       "      <td>4.06</td>\n",
       "      <td>4.06</td>\n",
       "      <td>4.06</td>\n",
       "      <td>4.06</td>\n",
       "      <td>4.06</td>\n",
       "      <td>4.06</td>\n",
       "    </tr>\n",
       "    <tr>\n",
       "      <th>2022-01-05</th>\n",
       "      <td>4.04</td>\n",
       "      <td>4.04</td>\n",
       "      <td>4.04</td>\n",
       "      <td>4.04</td>\n",
       "      <td>4.04</td>\n",
       "      <td>4.04</td>\n",
       "      <td>4.04</td>\n",
       "      <td>4.04</td>\n",
       "      <td>4.04</td>\n",
       "      <td>4.04</td>\n",
       "      <td>4.04</td>\n",
       "      <td>4.04</td>\n",
       "      <td>4.04</td>\n",
       "    </tr>\n",
       "    <tr>\n",
       "      <th>2022-01-06</th>\n",
       "      <td>4.05</td>\n",
       "      <td>4.05</td>\n",
       "      <td>4.05</td>\n",
       "      <td>4.05</td>\n",
       "      <td>4.05</td>\n",
       "      <td>4.05</td>\n",
       "      <td>4.05</td>\n",
       "      <td>4.05</td>\n",
       "      <td>4.05</td>\n",
       "      <td>4.05</td>\n",
       "      <td>4.05</td>\n",
       "      <td>4.05</td>\n",
       "      <td>4.05</td>\n",
       "    </tr>\n",
       "    <tr>\n",
       "      <th>2022-01-07</th>\n",
       "      <td>4.03</td>\n",
       "      <td>4.03</td>\n",
       "      <td>4.03</td>\n",
       "      <td>4.03</td>\n",
       "      <td>4.03</td>\n",
       "      <td>4.03</td>\n",
       "      <td>4.03</td>\n",
       "      <td>4.03</td>\n",
       "      <td>4.03</td>\n",
       "      <td>4.03</td>\n",
       "      <td>4.03</td>\n",
       "      <td>4.03</td>\n",
       "      <td>4.03</td>\n",
       "    </tr>\n",
       "    <tr>\n",
       "      <th>2022-01-10</th>\n",
       "      <td>4.08</td>\n",
       "      <td>4.08</td>\n",
       "      <td>4.08</td>\n",
       "      <td>4.08</td>\n",
       "      <td>4.08</td>\n",
       "      <td>4.08</td>\n",
       "      <td>4.08</td>\n",
       "      <td>4.08</td>\n",
       "      <td>4.08</td>\n",
       "      <td>4.08</td>\n",
       "      <td>4.08</td>\n",
       "      <td>4.08</td>\n",
       "      <td>4.08</td>\n",
       "    </tr>\n",
       "  </tbody>\n",
       "</table>\n",
       "</div>"
      ],
      "text/plain": [
       "            code  open  high   low  close  preclose  volume  amount  \\\n",
       "2022-01-04  4.06  4.06  4.06  4.06   4.06      4.06    4.06    4.06   \n",
       "2022-01-05  4.04  4.04  4.04  4.04   4.04      4.04    4.04    4.04   \n",
       "2022-01-06  4.05  4.05  4.05  4.05   4.05      4.05    4.05    4.05   \n",
       "2022-01-07  4.03  4.03  4.03  4.03   4.03      4.03    4.03    4.03   \n",
       "2022-01-10  4.08  4.08  4.08  4.08   4.08      4.08    4.08    4.08   \n",
       "\n",
       "            adjustflag  turn  tradestatus  pctChg  isST  \n",
       "2022-01-04        4.06  4.06         4.06    4.06  4.06  \n",
       "2022-01-05        4.04  4.04         4.04    4.04  4.04  \n",
       "2022-01-06        4.05  4.05         4.05    4.05  4.05  \n",
       "2022-01-07        4.03  4.03         4.03    4.03  4.03  \n",
       "2022-01-10        4.08  4.08         4.08    4.08  4.08  "
      ]
     },
     "execution_count": 5,
     "metadata": {},
     "output_type": "execute_result"
    }
   ],
   "source": [
    "data.head()"
   ]
  },
  {
   "cell_type": "markdown",
   "id": "91ce3a68",
   "metadata": {},
   "source": [
    "## 3. 画图"
   ]
  },
  {
   "cell_type": "code",
   "execution_count": 6,
   "id": "5480d8a5",
   "metadata": {},
   "outputs": [
    {
     "data": {
      "text/plain": [
       "<AxesSubplot:>"
      ]
     },
     "execution_count": 6,
     "metadata": {},
     "output_type": "execute_result"
    },
    {
     "data": {
      "image/png": "[encoded data removed]",
      "text/plain": [
       "<Figure size 432x288 with 1 Axes>"
      ]
     },
     "metadata": {
      "needs_background": "light"
     },
     "output_type": "display_data"
    }
   ],
   "source": [
    "data['close'].plot()"
   ]
  },
  {
   "cell_type": "markdown",
   "id": "f0d2206e",
   "metadata": {},
   "source": [
    "## 4. 登出系统"
   ]
  },
  {
   "cell_type": "code",
   "execution_count": 7,
   "id": "223c85f2",
   "metadata": {},
   "outputs": [
    {
     "name": "stdout",
     "output_type": "stream",
     "text": [
      "logout success!\n"
     ]
    }
   ],
   "source": [
    "lg = bs.logout()"
   ]
  }
 ],
 "metadata": {
  "kernelspec": {
   "display_name": "Python 3 (ipykernel)",
   "language": "python",
   "name": "python3"
  },
  "language_info": {
   "codemirror_mode": {
    "name": "ipython",
    "version": 3
   },
   "file_extension": ".py",
   "mimetype": "text/x-python",
   "name": "python",
   "nbconvert_exporter": "python",
   "pygments_lexer": "ipython3",
   "version": "3.8.4"
  }
 },
 "nbformat": 4,
 "nbformat_minor": 5
}
