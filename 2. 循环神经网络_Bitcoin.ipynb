{
 "cells": [
  {
   "cell_type": "code",
   "execution_count": 2,
   "metadata": {
    "_cell_guid": "b1076dfc-b9ad-4769-8c92-a6c4dae69d19",
    "_uuid": "8f2839f25d086af736a60e9eeb907d3b93b6e0e5",
    "execution": {
     "iopub.execute_input": "2022-10-07T10:18:47.277180Z",
     "iopub.status.busy": "2022-10-07T10:18:47.276720Z",
     "iopub.status.idle": "2022-10-07T10:18:47.295346Z",
     "shell.execute_reply": "2022-10-07T10:18:47.293670Z",
     "shell.execute_reply.started": "2022-10-07T10:18:47.277142Z"
    }
   },
   "outputs": [
    {
     "name": "stdout",
     "output_type": "stream",
     "text": [
      "/kaggle/input/bitcoin-historical-data/bitstampUSD_1-min_data_2012-01-01_to_2021-03-31.csv\n"
     ]
    }
   ],
   "source": [
    "# This Python 3 environment comes with many helpful analytics libraries installed\n",
    "# It is defined by the kaggle/python Docker image: https://github.com/kaggle/docker-python\n",
    "# For example, here's several helpful packages to load\n",
    "\n",
    "import numpy as np # linear algebra\n",
    "import pandas as pd # data processing, CSV file I/O (e.g. pd.read_csv)\n",
    "\n",
    "# Input data files are available in the read-only \"../input/\" directory\n",
    "# For example, running this (by clicking run or pressing Shift+Enter) will list all files under the input directory\n",
    "\n",
    "import os\n",
    "for dirname, _, filenames in os.walk('/kaggle/input'):\n",
    "    for filename in filenames:\n",
    "        print(os.path.join(dirname, filename))\n",
    "\n",
    "# You can write up to 20GB to the current directory (/kaggle/working/) that gets preserved as output when you create a version using \"Save & Run All\" \n",
    "# You can also write temporary files to /kaggle/temp/, but they won't be saved outside of the current session"
   ]
  },
  {
   "cell_type": "code",
   "execution_count": 3,
   "metadata": {
    "execution": {
     "iopub.execute_input": "2022-10-07T10:18:47.298841Z",
     "iopub.status.busy": "2022-10-07T10:18:47.298021Z",
     "iopub.status.idle": "2022-10-07T10:18:47.328009Z",
     "shell.execute_reply": "2022-10-07T10:18:47.326562Z",
     "shell.execute_reply.started": "2022-10-07T10:18:47.298788Z"
    }
   },
   "outputs": [
    {
     "name": "stdout",
     "output_type": "stream",
     "text": [
      "Python version: 3.7.12 | packaged by conda-forge | (default, Oct 26 2021, 06:08:53) \n",
      "[GCC 9.4.0]\n",
      "pandas version: 1.3.5\n",
      "matplotlib version: 3.5.3\n",
      "NumPy version: 1.21.6\n",
      "SciPy version: 1.7.3\n",
      "IPython version: 7.33.0\n",
      "-------------------------\n"
     ]
    }
   ],
   "source": [
    "#load packages\n",
    "import sys #access to system parameters https://docs.python.org/3/library/sys.html\n",
    "print(\"Python version: {}\". format(sys.version))\n",
    "\n",
    "import pandas as pd #collection of functions for data processing and analysis modeled after R dataframes with SQL like features\n",
    "print(\"pandas version: {}\". format(pd.__version__))\n",
    "\n",
    "import matplotlib #collection of functions for scientific and publication-ready visualization\n",
    "print(\"matplotlib version: {}\". format(matplotlib.__version__))\n",
    "\n",
    "import numpy as np #foundational package for scientific computing\n",
    "print(\"NumPy version: {}\". format(np.__version__))\n",
    "\n",
    "import scipy as sp #collection of functions for scientific computing and advance mathematics\n",
    "print(\"SciPy version: {}\". format(sp.__version__)) \n",
    "\n",
    "import IPython\n",
    "from IPython import display #pretty printing of dataframes in Jupyter notebook\n",
    "print(\"IPython version: {}\". format(IPython.__version__)) \n",
    "\n",
    "#misc libraries\n",
    "import random\n",
    "import time\n",
    "import datetime\n",
    "\n",
    "\n",
    "#ignore warnings\n",
    "import warnings\n",
    "warnings.filterwarnings('ignore')\n",
    "print('-'*25)"
   ]
  },
  {
   "cell_type": "code",
   "execution_count": 4,
   "metadata": {
    "execution": {
     "iopub.execute_input": "2022-10-07T10:18:47.330796Z",
     "iopub.status.busy": "2022-10-07T10:18:47.329722Z",
     "iopub.status.idle": "2022-10-07T10:18:48.479625Z",
     "shell.execute_reply": "2022-10-07T10:18:48.477990Z",
     "shell.execute_reply.started": "2022-10-07T10:18:47.330752Z"
    }
   },
   "outputs": [],
   "source": [
    "#Visualization\n",
    "import matplotlib as mpl\n",
    "import matplotlib.pyplot as plt\n",
    "from matplotlib import rc\n",
    "from pylab import rcParams\n",
    "import seaborn as sns\n",
    "from pandas.plotting import scatter_matrix\n",
    "from sklearn.preprocessing import MinMaxScaler\n",
    "from sklearn.model_selection import train_test_split\n",
    "from sklearn.linear_model import LinearRegression\n",
    "from sklearn.metrics import mean_squared_error\n",
    "from sklearn.multioutput import MultiOutputRegressor\n",
    "from xgboost import XGBRegressor\n",
    "from sklearn import tree\n",
    "\n",
    "#Configure Visualization Defaults\n",
    "#%matplotlib inline = show plots in Jupyter Notebook browser\n",
    "%matplotlib inline\n",
    "%config InlineBackend.figure_format = 'retina'\n",
    "sns.set(style = 'whitegrid', palette = 'muted', font_scale = 1.2)\n",
    "HAPPY_COLORS_PALETTE = ['#01BEFE', '#FFDD00', '#FF7D00', '#FF006D', '#ADFF02', '#8F00FF']\n",
    "sns.set_palette(sns.color_palette(HAPPY_COLORS_PALETTE))\n",
    "rcParams['figure.figsize'] = 12 ,8"
   ]
  },
  {
   "cell_type": "code",
   "execution_count": 5,
   "metadata": {
    "execution": {
     "iopub.execute_input": "2022-10-07T10:18:48.483484Z",
     "iopub.status.busy": "2022-10-07T10:18:48.482958Z",
     "iopub.status.idle": "2022-10-07T10:18:48.493536Z",
     "shell.execute_reply": "2022-10-07T10:18:48.491261Z",
     "shell.execute_reply.started": "2022-10-07T10:18:48.483432Z"
    }
   },
   "outputs": [],
   "source": [
    "def parser(x):\n",
    "    return datetime.datetime.fromtimestamp(int(x))"
   ]
  },
  {
   "cell_type": "code",
   "execution_count": 6,
   "metadata": {
    "execution": {
     "iopub.execute_input": "2022-10-07T10:18:48.496540Z",
     "iopub.status.busy": "2022-10-07T10:18:48.495466Z",
     "iopub.status.idle": "2022-10-07T10:19:04.195849Z",
     "shell.execute_reply": "2022-10-07T10:19:04.194470Z",
     "shell.execute_reply.started": "2022-10-07T10:18:48.496461Z"
    }
   },
   "outputs": [],
   "source": [
    "data=pd.read_csv('./data/bitstampUSD_1-min_data_2012-01-01_to_2021-03-31.csv', header=0, parse_dates=[0], index_col=0, squeeze=True, date_parser=parser)"
   ]
  },
  {
   "cell_type": "code",
   "execution_count": 7,
   "metadata": {
    "execution": {
     "iopub.execute_input": "2022-10-07T10:19:04.199306Z",
     "iopub.status.busy": "2022-10-07T10:19:04.197943Z",
     "iopub.status.idle": "2022-10-07T10:19:04.230207Z",
     "shell.execute_reply": "2022-10-07T10:19:04.228832Z",
     "shell.execute_reply.started": "2022-10-07T10:19:04.199248Z"
    }
   },
   "outputs": [
    {
     "data": {
      "text/html": [
       "<div>\n",
       "<style scoped>\n",
       "    .dataframe tbody tr th:only-of-type {\n",
       "        vertical-align: middle;\n",
       "    }\n",
       "\n",
       "    .dataframe tbody tr th {\n",
       "        vertical-align: top;\n",
       "    }\n",
       "\n",
       "    .dataframe thead th {\n",
       "        text-align: right;\n",
       "    }\n",
       "</style>\n",
       "<table border=\"1\" class=\"dataframe\">\n",
       "  <thead>\n",
       "    <tr style=\"text-align: right;\">\n",
       "      <th></th>\n",
       "      <th>Open</th>\n",
       "      <th>High</th>\n",
       "      <th>Low</th>\n",
       "      <th>Close</th>\n",
       "      <th>Volume_(BTC)</th>\n",
       "      <th>Volume_(Currency)</th>\n",
       "      <th>Weighted_Price</th>\n",
       "    </tr>\n",
       "    <tr>\n",
       "      <th>Timestamp</th>\n",
       "      <th></th>\n",
       "      <th></th>\n",
       "      <th></th>\n",
       "      <th></th>\n",
       "      <th></th>\n",
       "      <th></th>\n",
       "      <th></th>\n",
       "    </tr>\n",
       "  </thead>\n",
       "  <tbody>\n",
       "    <tr>\n",
       "      <th>2011-12-31 07:52:00</th>\n",
       "      <td>4.39</td>\n",
       "      <td>4.39</td>\n",
       "      <td>4.39</td>\n",
       "      <td>4.39</td>\n",
       "      <td>0.455581</td>\n",
       "      <td>2.0</td>\n",
       "      <td>4.39</td>\n",
       "    </tr>\n",
       "    <tr>\n",
       "      <th>2011-12-31 07:53:00</th>\n",
       "      <td>NaN</td>\n",
       "      <td>NaN</td>\n",
       "      <td>NaN</td>\n",
       "      <td>NaN</td>\n",
       "      <td>NaN</td>\n",
       "      <td>NaN</td>\n",
       "      <td>NaN</td>\n",
       "    </tr>\n",
       "    <tr>\n",
       "      <th>2011-12-31 07:54:00</th>\n",
       "      <td>NaN</td>\n",
       "      <td>NaN</td>\n",
       "      <td>NaN</td>\n",
       "      <td>NaN</td>\n",
       "      <td>NaN</td>\n",
       "      <td>NaN</td>\n",
       "      <td>NaN</td>\n",
       "    </tr>\n",
       "    <tr>\n",
       "      <th>2011-12-31 07:55:00</th>\n",
       "      <td>NaN</td>\n",
       "      <td>NaN</td>\n",
       "      <td>NaN</td>\n",
       "      <td>NaN</td>\n",
       "      <td>NaN</td>\n",
       "      <td>NaN</td>\n",
       "      <td>NaN</td>\n",
       "    </tr>\n",
       "    <tr>\n",
       "      <th>2011-12-31 07:56:00</th>\n",
       "      <td>NaN</td>\n",
       "      <td>NaN</td>\n",
       "      <td>NaN</td>\n",
       "      <td>NaN</td>\n",
       "      <td>NaN</td>\n",
       "      <td>NaN</td>\n",
       "      <td>NaN</td>\n",
       "    </tr>\n",
       "  </tbody>\n",
       "</table>\n",
       "</div>"
      ],
      "text/plain": [
       "                     Open  High   Low  Close  Volume_(BTC)  Volume_(Currency)  \\\n",
       "Timestamp                                                                       \n",
       "2011-12-31 07:52:00  4.39  4.39  4.39   4.39      0.455581                2.0   \n",
       "2011-12-31 07:53:00   NaN   NaN   NaN    NaN           NaN                NaN   \n",
       "2011-12-31 07:54:00   NaN   NaN   NaN    NaN           NaN                NaN   \n",
       "2011-12-31 07:55:00   NaN   NaN   NaN    NaN           NaN                NaN   \n",
       "2011-12-31 07:56:00   NaN   NaN   NaN    NaN           NaN                NaN   \n",
       "\n",
       "                     Weighted_Price  \n",
       "Timestamp                            \n",
       "2011-12-31 07:52:00            4.39  \n",
       "2011-12-31 07:53:00             NaN  \n",
       "2011-12-31 07:54:00             NaN  \n",
       "2011-12-31 07:55:00             NaN  \n",
       "2011-12-31 07:56:00             NaN  "
      ]
     },
     "execution_count": 7,
     "metadata": {},
     "output_type": "execute_result"
    }
   ],
   "source": [
    "data.head()"
   ]
  },
  {
   "cell_type": "code",
   "execution_count": 8,
   "metadata": {
    "execution": {
     "iopub.execute_input": "2022-10-07T10:19:04.232785Z",
     "iopub.status.busy": "2022-10-07T10:19:04.231955Z",
     "iopub.status.idle": "2022-10-07T10:19:04.409396Z",
     "shell.execute_reply": "2022-10-07T10:19:04.408046Z",
     "shell.execute_reply.started": "2022-10-07T10:19:04.232730Z"
    }
   },
   "outputs": [
    {
     "name": "stdout",
     "output_type": "stream",
     "text": [
      "Your selected dataframe has 7 columns.\n",
      "There are 7 columns that have missing values.\n",
      "                   Missing Values  % of Total Values\n",
      "Open                      1243608               25.6\n",
      "High                      1243608               25.6\n",
      "Low                       1243608               25.6\n",
      "Close                     1243608               25.6\n",
      "Volume_(BTC)              1243608               25.6\n",
      "Volume_(Currency)         1243608               25.6\n",
      "Weighted_Price            1243608               25.6\n"
     ]
    }
   ],
   "source": [
    "#Fuction to calculate the missing values\n",
    "def missing_values_table(df):\n",
    "        # Total missing values\n",
    "        mis_val = df.isnull().sum()\n",
    "        \n",
    "        # Percentage of missing values\n",
    "        mis_val_percent = 100 * df.isnull().sum() / len(df)\n",
    "        \n",
    "        # Make a table with the results\n",
    "        mis_val_table = pd.concat([mis_val, mis_val_percent], axis=1)\n",
    "        \n",
    "        # Rename the columns\n",
    "        mis_val_table_ren_columns = mis_val_table.rename(\n",
    "        columns = {0 : 'Missing Values', 1 : '% of Total Values'})\n",
    "        \n",
    "        # Sort the table by percentage of missing descending\n",
    "        mis_val_table_ren_columns = mis_val_table_ren_columns[\n",
    "            mis_val_table_ren_columns.iloc[:,1] != 0].sort_values(\n",
    "        '% of Total Values', ascending=False).round(1)\n",
    "        \n",
    "        # Print some summary information\n",
    "        print (\"Your selected dataframe has \" + str(df.shape[1]) + \" columns.\\n\"      \n",
    "            \"There are \" + str(mis_val_table_ren_columns.shape[0]) +\n",
    "              \" columns that have missing values.\")\n",
    "        \n",
    "        # Return the dataframe with missing information\n",
    "        return mis_val_table_ren_columns\n",
    "\n",
    "missing_values_data1 = missing_values_table(data)\n",
    "print(missing_values_data1.head(30))"
   ]
  },
  {
   "cell_type": "code",
   "execution_count": 9,
   "metadata": {
    "execution": {
     "iopub.execute_input": "2022-10-07T10:19:04.411836Z",
     "iopub.status.busy": "2022-10-07T10:19:04.411226Z",
     "iopub.status.idle": "2022-10-07T10:19:09.335687Z",
     "shell.execute_reply": "2022-10-07T10:19:09.334376Z",
     "shell.execute_reply.started": "2022-10-07T10:19:04.411782Z"
    }
   },
   "outputs": [],
   "source": [
    "data=data.interpolate()"
   ]
  },
  {
   "cell_type": "code",
   "execution_count": 10,
   "metadata": {
    "execution": {
     "iopub.execute_input": "2022-10-07T10:19:09.337560Z",
     "iopub.status.busy": "2022-10-07T10:19:09.337139Z",
     "iopub.status.idle": "2022-10-07T10:19:09.357225Z",
     "shell.execute_reply": "2022-10-07T10:19:09.355967Z",
     "shell.execute_reply.started": "2022-10-07T10:19:09.337504Z"
    }
   },
   "outputs": [
    {
     "data": {
      "text/html": [
       "<div>\n",
       "<style scoped>\n",
       "    .dataframe tbody tr th:only-of-type {\n",
       "        vertical-align: middle;\n",
       "    }\n",
       "\n",
       "    .dataframe tbody tr th {\n",
       "        vertical-align: top;\n",
       "    }\n",
       "\n",
       "    .dataframe thead th {\n",
       "        text-align: right;\n",
       "    }\n",
       "</style>\n",
       "<table border=\"1\" class=\"dataframe\">\n",
       "  <thead>\n",
       "    <tr style=\"text-align: right;\">\n",
       "      <th></th>\n",
       "      <th>Open</th>\n",
       "      <th>High</th>\n",
       "      <th>Low</th>\n",
       "      <th>Close</th>\n",
       "      <th>Volume_(BTC)</th>\n",
       "      <th>Volume_(Currency)</th>\n",
       "      <th>Weighted_Price</th>\n",
       "    </tr>\n",
       "    <tr>\n",
       "      <th>Timestamp</th>\n",
       "      <th></th>\n",
       "      <th></th>\n",
       "      <th></th>\n",
       "      <th></th>\n",
       "      <th></th>\n",
       "      <th></th>\n",
       "      <th></th>\n",
       "    </tr>\n",
       "  </thead>\n",
       "  <tbody>\n",
       "    <tr>\n",
       "      <th>2011-12-31 07:52:00</th>\n",
       "      <td>4.39</td>\n",
       "      <td>4.39</td>\n",
       "      <td>4.39</td>\n",
       "      <td>4.39</td>\n",
       "      <td>0.455581</td>\n",
       "      <td>2.000000</td>\n",
       "      <td>4.39</td>\n",
       "    </tr>\n",
       "    <tr>\n",
       "      <th>2011-12-31 07:53:00</th>\n",
       "      <td>4.39</td>\n",
       "      <td>4.39</td>\n",
       "      <td>4.39</td>\n",
       "      <td>4.39</td>\n",
       "      <td>0.555046</td>\n",
       "      <td>2.436653</td>\n",
       "      <td>4.39</td>\n",
       "    </tr>\n",
       "    <tr>\n",
       "      <th>2011-12-31 07:54:00</th>\n",
       "      <td>4.39</td>\n",
       "      <td>4.39</td>\n",
       "      <td>4.39</td>\n",
       "      <td>4.39</td>\n",
       "      <td>0.654511</td>\n",
       "      <td>2.873305</td>\n",
       "      <td>4.39</td>\n",
       "    </tr>\n",
       "    <tr>\n",
       "      <th>2011-12-31 07:55:00</th>\n",
       "      <td>4.39</td>\n",
       "      <td>4.39</td>\n",
       "      <td>4.39</td>\n",
       "      <td>4.39</td>\n",
       "      <td>0.753977</td>\n",
       "      <td>3.309958</td>\n",
       "      <td>4.39</td>\n",
       "    </tr>\n",
       "    <tr>\n",
       "      <th>2011-12-31 07:56:00</th>\n",
       "      <td>4.39</td>\n",
       "      <td>4.39</td>\n",
       "      <td>4.39</td>\n",
       "      <td>4.39</td>\n",
       "      <td>0.853442</td>\n",
       "      <td>3.746611</td>\n",
       "      <td>4.39</td>\n",
       "    </tr>\n",
       "  </tbody>\n",
       "</table>\n",
       "</div>"
      ],
      "text/plain": [
       "                     Open  High   Low  Close  Volume_(BTC)  Volume_(Currency)  \\\n",
       "Timestamp                                                                       \n",
       "2011-12-31 07:52:00  4.39  4.39  4.39   4.39      0.455581           2.000000   \n",
       "2011-12-31 07:53:00  4.39  4.39  4.39   4.39      0.555046           2.436653   \n",
       "2011-12-31 07:54:00  4.39  4.39  4.39   4.39      0.654511           2.873305   \n",
       "2011-12-31 07:55:00  4.39  4.39  4.39   4.39      0.753977           3.309958   \n",
       "2011-12-31 07:56:00  4.39  4.39  4.39   4.39      0.853442           3.746611   \n",
       "\n",
       "                     Weighted_Price  \n",
       "Timestamp                            \n",
       "2011-12-31 07:52:00            4.39  \n",
       "2011-12-31 07:53:00            4.39  \n",
       "2011-12-31 07:54:00            4.39  \n",
       "2011-12-31 07:55:00            4.39  \n",
       "2011-12-31 07:56:00            4.39  "
      ]
     },
     "execution_count": 10,
     "metadata": {},
     "output_type": "execute_result"
    }
   ],
   "source": [
    "data.head()"
   ]
  },
  {
   "cell_type": "markdown",
   "metadata": {
    "execution": {
     "iopub.execute_input": "2022-10-07T10:19:54.659955Z",
     "iopub.status.busy": "2022-10-07T10:19:54.659467Z",
     "iopub.status.idle": "2022-10-07T10:19:54.669142Z",
     "shell.execute_reply": "2022-10-07T10:19:54.667675Z",
     "shell.execute_reply.started": "2022-10-07T10:19:54.659917Z"
    }
   },
   "source": [
    "## 1. 标准化处理\n",
    "避免大尺度的数据影响过大"
   ]
  },
  {
   "cell_type": "code",
   "execution_count": 13,
   "metadata": {
    "execution": {
     "iopub.execute_input": "2022-10-07T10:26:19.609833Z",
     "iopub.status.busy": "2022-10-07T10:26:19.609229Z",
     "iopub.status.idle": "2022-10-07T10:26:20.204915Z",
     "shell.execute_reply": "2022-10-07T10:26:20.203668Z",
     "shell.execute_reply.started": "2022-10-07T10:26:19.609778Z"
    }
   },
   "outputs": [],
   "source": [
    "data=(data-data.mean())/data.std()"
   ]
  },
  {
   "cell_type": "code",
   "execution_count": 14,
   "metadata": {
    "execution": {
     "iopub.execute_input": "2022-10-07T10:26:32.819475Z",
     "iopub.status.busy": "2022-10-07T10:26:32.818977Z",
     "iopub.status.idle": "2022-10-07T10:26:55.922788Z",
     "shell.execute_reply": "2022-10-07T10:26:55.921526Z",
     "shell.execute_reply.started": "2022-10-07T10:26:32.819426Z"
    }
   },
   "outputs": [
    {
     "data": {
      "text/plain": [
       "<AxesSubplot:xlabel='Timestamp'>"
      ]
     },
     "execution_count": 14,
     "metadata": {},
     "output_type": "execute_result"
    },
    {
     "data": {
      "image/png": "[encoded data removed]",
      "text/plain": [
       "<Figure size 864x576 with 1 Axes>"
      ]
     },
     "metadata": {
      "image/png": {
       "height": 461,
       "width": 701
      }
     },
     "output_type": "display_data"
    }
   ],
   "source": [
    "data['Close'].plot()"
   ]
  },
  {
   "cell_type": "code",
   "execution_count": 19,
   "metadata": {
    "execution": {
     "iopub.execute_input": "2022-10-07T10:30:03.139368Z",
     "iopub.status.busy": "2022-10-07T10:30:03.138931Z",
     "iopub.status.idle": "2022-10-07T10:30:05.783246Z",
     "shell.execute_reply": "2022-10-07T10:30:05.781770Z",
     "shell.execute_reply.started": "2022-10-07T10:30:03.139331Z"
    }
   },
   "outputs": [],
   "source": [
    "onedata=np.array(data['Close'])\n",
    "price=[]\n",
    "for index in range(len(onedata)-30):\n",
    "    price.append(onedata[index:index+30])"
   ]
  },
  {
   "cell_type": "code",
   "execution_count": 23,
   "metadata": {
    "execution": {
     "iopub.execute_input": "2022-10-07T10:30:51.247085Z",
     "iopub.status.busy": "2022-10-07T10:30:51.246279Z",
     "iopub.status.idle": "2022-10-07T10:30:51.726725Z",
     "shell.execute_reply": "2022-10-07T10:30:51.725588Z",
     "shell.execute_reply.started": "2022-10-07T10:30:51.247037Z"
    }
   },
   "outputs": [
    {
     "data": {
      "text/plain": [
       "(4857347, 30)"
      ]
     },
     "execution_count": 23,
     "metadata": {},
     "output_type": "execute_result"
    }
   ],
   "source": [
    "price=np.array(price)\n",
    "price.shape"
   ]
  },
  {
   "cell_type": "code",
   "execution_count": 71,
   "metadata": {
    "execution": {
     "iopub.execute_input": "2022-10-07T11:08:34.972929Z",
     "iopub.status.busy": "2022-10-07T11:08:34.972433Z",
     "iopub.status.idle": "2022-10-07T11:08:34.979781Z",
     "shell.execute_reply": "2022-10-07T11:08:34.978360Z",
     "shell.execute_reply.started": "2022-10-07T11:08:34.972886Z"
    }
   },
   "outputs": [],
   "source": [
    "train1=price[:,:,np.newaxis]\n",
    "x1_train=train1[:,:-1]\n",
    "y1_train=train1[:,-1]"
   ]
  },
  {
   "cell_type": "markdown",
   "metadata": {
    "execution": {
     "iopub.execute_input": "2022-10-07T10:34:50.926934Z",
     "iopub.status.busy": "2022-10-07T10:34:50.926482Z",
     "iopub.status.idle": "2022-10-07T10:34:50.934927Z",
     "shell.execute_reply": "2022-10-07T10:34:50.933304Z",
     "shell.execute_reply.started": "2022-10-07T10:34:50.926895Z"
    }
   },
   "source": [
    "## 2. 时间序列预测"
   ]
  },
  {
   "cell_type": "code",
   "execution_count": 72,
   "metadata": {
    "execution": {
     "iopub.execute_input": "2022-10-07T11:08:38.422081Z",
     "iopub.status.busy": "2022-10-07T11:08:38.421150Z",
     "iopub.status.idle": "2022-10-07T11:08:38.430251Z",
     "shell.execute_reply": "2022-10-07T11:08:38.428436Z",
     "shell.execute_reply.started": "2022-10-07T11:08:38.422031Z"
    }
   },
   "outputs": [
    {
     "name": "stdout",
     "output_type": "stream",
     "text": [
      "keras: 2.6.0\n"
     ]
    }
   ],
   "source": [
    "import keras\n",
    "from keras.models import Sequential\n",
    "from keras.layers import Dense, Activation, Dropout\n",
    "from keras.layers.recurrent import LSTM\n",
    "from keras.utils.vis_utils import plot_model\n",
    "\n",
    "print(\"keras: {}\". format(keras.__version__))"
   ]
  },
  {
   "cell_type": "code",
   "execution_count": 73,
   "metadata": {
    "execution": {
     "iopub.execute_input": "2022-10-07T11:08:38.563790Z",
     "iopub.status.busy": "2022-10-07T11:08:38.563322Z",
     "iopub.status.idle": "2022-10-07T11:08:38.877691Z",
     "shell.execute_reply": "2022-10-07T11:08:38.876253Z",
     "shell.execute_reply.started": "2022-10-07T11:08:38.563748Z"
    }
   },
   "outputs": [],
   "source": [
    "model1=Sequential()\n",
    "model1.add(LSTM(32,input_shape=(29,1),return_sequences=True))\n",
    "model1.add(Dropout(0.2))\n",
    "model1.add(LSTM(16,return_sequences=False))\n",
    "model1.add(Dropout(0.2))\n",
    "model1.add(Dense(1))\n",
    "model1.add(Activation('linear'))\n",
    "model1.compile(loss='mse',optimizer='rmsprop')"
   ]
  },
  {
   "cell_type": "code",
   "execution_count": 74,
   "metadata": {
    "execution": {
     "iopub.execute_input": "2022-10-07T11:08:38.880839Z",
     "iopub.status.busy": "2022-10-07T11:08:38.880383Z",
     "iopub.status.idle": "2022-10-07T11:08:39.089844Z",
     "shell.execute_reply": "2022-10-07T11:08:39.088067Z",
     "shell.execute_reply.started": "2022-10-07T11:08:38.880801Z"
    }
   },
   "outputs": [
    {
     "data": {
      "image/png": "[encoded data removed]",
      "text/plain": [
       "<IPython.core.display.Image object>"
      ]
     },
     "execution_count": 74,
     "metadata": {},
     "output_type": "execute_result"
    }
   ],
   "source": [
    "plot_model(model1)"
   ]
  },
  {
   "cell_type": "code",
   "execution_count": null,
   "metadata": {},
   "outputs": [],
   "source": [
    "# 先尝试一下，获得一个大致速度的估计\n",
    "model1.fit(x1_train,y1_train,batch_size=1024,epochs=1)"
   ]
  },
  {
   "cell_type": "code",
   "execution_count": 76,
   "metadata": {
    "execution": {
     "iopub.execute_input": "2022-10-07T11:11:50.353745Z",
     "iopub.status.busy": "2022-10-07T11:11:50.352261Z",
     "iopub.status.idle": "2022-10-07T11:11:50.362258Z",
     "shell.execute_reply": "2022-10-07T11:11:50.360989Z",
     "shell.execute_reply.started": "2022-10-07T11:11:50.353679Z"
    }
   },
   "outputs": [
    {
     "data": {
      "text/plain": [
       "(4857347, 29, 1)"
      ]
     },
     "execution_count": 76,
     "metadata": {},
     "output_type": "execute_result"
    }
   ],
   "source": [
    "# 然后进行精细化训练\n",
    "model1.fit(x1_train,y1_train,batch_size=1024,epochs=1)"
   ]
  },
  {
   "cell_type": "markdown",
   "metadata": {},
   "source": [
    "## 3. 数据划分"
   ]
  },
  {
   "cell_type": "code",
   "execution_count": 80,
   "metadata": {
    "execution": {
     "iopub.execute_input": "2022-10-07T11:14:37.124622Z",
     "iopub.status.busy": "2022-10-07T11:14:37.124026Z",
     "iopub.status.idle": "2022-10-07T11:14:37.133155Z",
     "shell.execute_reply": "2022-10-07T11:14:37.131611Z",
     "shell.execute_reply.started": "2022-10-07T11:14:37.124569Z"
    }
   },
   "outputs": [
    {
     "name": "stdout",
     "output_type": "stream",
     "text": [
      "sklearn: version 1.0.2\n"
     ]
    }
   ],
   "source": [
    "from sklearn.model_selection import train_test_split\n",
    "import sklearn\n",
    "print('sklearn: version {}'.format(sklearn.__version__))"
   ]
  },
  {
   "cell_type": "code",
   "execution_count": 81,
   "metadata": {
    "execution": {
     "iopub.execute_input": "2022-10-07T11:15:51.813537Z",
     "iopub.status.busy": "2022-10-07T11:15:51.813052Z",
     "iopub.status.idle": "2022-10-07T11:15:52.931923Z",
     "shell.execute_reply": "2022-10-07T11:15:52.930247Z",
     "shell.execute_reply.started": "2022-10-07T11:15:51.813463Z"
    }
   },
   "outputs": [],
   "source": [
    "x2_train, x2_test, y2_train, t2_test=train_test_split(x1_train,y1_train,test_size=0.1)"
   ]
  },
  {
   "cell_type": "code",
   "execution_count": 85,
   "metadata": {
    "execution": {
     "iopub.execute_input": "2022-10-07T11:17:50.885173Z",
     "iopub.status.busy": "2022-10-07T11:17:50.884734Z",
     "iopub.status.idle": "2022-10-07T11:17:51.232369Z",
     "shell.execute_reply": "2022-10-07T11:17:51.230923Z",
     "shell.execute_reply.started": "2022-10-07T11:17:50.885135Z"
    }
   },
   "outputs": [],
   "source": [
    "model2=Sequential()\n",
    "model2.add(LSTM(32,input_shape=(29,1),return_sequences=True))\n",
    "model2.add(Dropout(0.2))\n",
    "model2.add(LSTM(16,return_sequences=False))\n",
    "model2.add(Dropout(0.2))\n",
    "model2.add(Dense(1))\n",
    "model2.add(Activation('linear'))\n",
    "model2.compile(loss='mse',optimizer='rmsprop')"
   ]
  },
  {
   "cell_type": "code",
   "execution_count": 86,
   "metadata": {
    "execution": {
     "iopub.execute_input": "2022-10-07T11:18:06.682242Z",
     "iopub.status.busy": "2022-10-07T11:18:06.681804Z",
     "iopub.status.idle": "2022-10-07T11:18:06.915496Z",
     "shell.execute_reply": "2022-10-07T11:18:06.913704Z",
     "shell.execute_reply.started": "2022-10-07T11:18:06.682206Z"
    }
   },
   "outputs": [
    {
     "data": {
      "image/png": "[encoded data removed]",
      "text/plain": [
       "<IPython.core.display.Image object>"
      ]
     },
     "execution_count": 86,
     "metadata": {},
     "output_type": "execute_result"
    }
   ],
   "source": [
    "plot_model(model2)"
   ]
  },
  {
   "cell_type": "code",
   "execution_count": null,
   "metadata": {
    "execution": {
     "iopub.execute_input": "2022-10-07T11:18:52.651835Z",
     "iopub.status.busy": "2022-10-07T11:18:52.651376Z"
    }
   },
   "outputs": [
    {
     "name": "stdout",
     "output_type": "stream",
     "text": [
      "Epoch 1/10\n",
      "2135/2135 [==============================] - 819s 380ms/step - loss: 0.0242\n",
      "Epoch 2/10\n",
      "2135/2135 [==============================] - 798s 374ms/step - loss: 0.0167\n",
      "Epoch 3/10\n",
      "2135/2135 [==============================] - 798s 374ms/step - loss: 0.0164\n",
      "Epoch 4/10\n",
      "2135/2135 [==============================] - 830s 389ms/step - loss: 0.0164\n",
      "Epoch 5/10\n",
      "2135/2135 [==============================] - 803s 376ms/step - loss: 0.0162\n",
      "Epoch 6/10\n",
      "1185/2135 [===============>..............] - ETA: 5:55 - loss: 0.0162"
     ]
    }
   ],
   "source": [
    "model2.fit(x2_train,y2_train,batch_size=2048,epochs=10)"
   ]
  },
  {
   "cell_type": "markdown",
   "metadata": {},
   "source": [
    "## 4. 模型保存"
   ]
  },
  {
   "cell_type": "code",
   "execution_count": null,
   "metadata": {},
   "outputs": [],
   "source": [
    "from keras.models import load_model\n",
    "\n",
    "model2.save('model2.h5')  # creates a HDF5 file 'my_model.h5'\n",
    "del model  # deletes the existing model\n",
    "\n",
    "# returns a compiled model\n",
    "# identical to the previous one\n",
    "model = load_model('model2.h5')"
   ]
  }
 ],
 "metadata": {
  "kernelspec": {
   "display_name": "Python 3 (ipykernel)",
   "language": "python",
   "name": "python3"
  },
  "language_info": {
   "codemirror_mode": {
    "name": "ipython",
    "version": 3
   },
   "file_extension": ".py",
   "mimetype": "text/x-python",
   "name": "python",
   "nbconvert_exporter": "python",
   "pygments_lexer": "ipython3",
   "version": "3.8.4"
  }
 },
 "nbformat": 4,
 "nbformat_minor": 4
}
